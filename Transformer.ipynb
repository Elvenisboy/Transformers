{
 "cells": [
  {
   "cell_type": "markdown",
   "metadata": {},
   "source": [
    "# Transformer for Language Translation implementation in PyTorch"
   ]
  },
  {
   "cell_type": "markdown",
   "metadata": {},
   "source": [
    "In this notebook I will go trough an PyTorch implementation of transformer based on [Attention is all you need](https://arxiv.org/pdf/1706.03762.pdf) paper.\n",
    "\n",
    "In [another notebook](https://github.com/mf1024/transformers) I implemented Transforer Encoder model and trained it for Language Modeling task. \n",
    "\n",
    "In this notebook I will continue and add the Decoder component to the implementation and train the whole on Language Translation task.\n",
    "\n",
    "Troughout this notebook as well I **use some of the illustrations from the incredible [Illustrated transformer](https://jalammar.github.io/illustrated-transformer) blog post by *Jay Alammar***. I highly recommend you to take a look at it. \n"
   ]
  },
  {
   "cell_type": "markdown",
   "metadata": {},
   "source": [
    "## Dataset\n",
    "\n",
    "For the translation task I will use a small english-french [dataset](https://raw.githubusercontent.com/mf1024/transformers/master/fra-eng/fra.txt). The dataset consists of just 170k sentences but that is enough to train and demonstrate the Transformer.\n",
    "\n",
    "I will use the same PyTorch [Dataset](https://github.com/mf1024/transformers/blob/master/fra_eng_dataset.py) implementation to process the sentences and prepare the batches.\n"
   ]
  },
  {
   "cell_type": "markdown",
   "metadata": {},
   "source": [
    "## Transformer architecture:\n",
    "\n",
    "<img src=\"imgs/transformer.png\">\n",
    "\n",
    "The key idea of Transformer is to avoid using [reccurence](https://arxiv.org/abs/1409.3215) at all for encoding and decoding variable-length sequences. That solves issues with long-range dependencies and the amount of computation that can be parallelized.\n",
    "\n",
    "The transformer consists of two parts - the Encoder and the Decoder. They are both very similar in their structure but different in a few aspects. "
   ]
  },
  {
   "cell_type": "markdown",
   "metadata": {},
   "source": [
    "## The Encoder and Decoder\n",
    "\n",
    "<img src=\"imgs/encoder-decoder.png\">\n",
    "\n",
    "In the full Transformer implementation, first, the sentence in the source language is encoded. One the encoding is done, the output of the last encoder layer is used in every layer of decoder, where the last layer generates the sentence in target language. \n",
    "\n",
    "\n",
    "<img src=\"imgs/transformer_decoding.gif\">\n",
    "\n",
    "The Decoder layer consists of same sublayers as Encoder(Self Attention and Feed Forward) with one additional sublayer - Memory Attention. The Memory Attention sublayer is similar to Self Attention except it uses **Key** and **Value** matrices from the Encoder.\n",
    "\n",
    "The Decoder will use these **Key** and **Value** matrices but will learn to calculate it's own **Query** to gather the information from the encoded sentences.\n",
    "\n",
    "When decoding the sentence, each word is prediced one at a time, meaning that for Decoder to predict the word x(i) the input of the Decoder should be all the words in target langugae from 1 to i-1 . During the traing the decoding can be paralelized using masking, but during translation it is going to take as many Decoder runs as there are words in the target sentence as shown in the GIF. "
   ]
  },
  {
   "cell_type": "code",
   "execution_count": null,
   "metadata": {},
   "outputs": [],
   "source": []
  },
  {
   "cell_type": "code",
   "execution_count": 15,
   "metadata": {},
   "outputs": [],
   "source": [
    "import warnings\n",
    "warnings.filterwarnings('ignore')\n",
    "\n",
    "import torch\n",
    "from torch import nn\n",
    "import torch.functional as F\n",
    "import numpy as np\n",
    "import matplotlib.pyplot as plt\n",
    "import os\n",
    "\n",
    "from torch.utils.data import Dataset, DataLoader\n",
    "from fra_eng_dataset import FraEngDataset, fra_eng_dataset_collate\n",
    "from torch.nn.utils.rnn import pad_sequence, pack_padded_sequence, pad_packed_sequence\n",
    "\n",
    "device = 'cpu'\n",
    "if torch.cuda.is_available():\n",
    "    device = 'cuda'"
   ]
  },
  {
   "cell_type": "markdown",
   "metadata": {},
   "source": [
    "## Attention Layers"
   ]
  },
  {
   "cell_type": "code",
   "execution_count": 16,
   "metadata": {},
   "outputs": [],
   "source": [
    "class SelfAttentionHead(nn.Module):\n",
    "    def __init__(self, d_model):\n",
    "        super().__init__()\n",
    "\n",
    "        self.d_model = d_model\n",
    "        self.K = nn.Linear(d_model, d_model)\n",
    "        self.V = nn.Linear(d_model, d_model)\n",
    "        self.Q = nn.Linear(d_model, d_model)\n",
    "\n",
    "    def forward(self, x, padding_mask = None, subsq_mask = None):\n",
    "        # x shape: [N, SEQ, D_MODEL]\n",
    "\n",
    "        keys = self.K.forward(x)\n",
    "        values = self.V.forward(x)\n",
    "        queries = self.Q.forward(x)\n",
    "\n",
    "        sqrt_d = self.d_model ** 0.5\n",
    "\n",
    "        att = torch.matmul(queries, keys.transpose(1,2)) / sqrt_d\n",
    "        # att shape: [N, SEQ, SEQ]\n",
    "        # Broadcast padding mask to word attentions so that word attention does not attend to positions outside the sentence\n",
    "        if padding_mask is not None:\n",
    "            att = att + padding_mask.transpose(1,2)\n",
    "        # Add subsequent mask so that each position can attend only itself and the previous elements\n",
    "        if subsq_mask is not None:\n",
    "            att = att + subsq_mask.unsqueeze(0)\n",
    "\n",
    "        att_softmax = torch.softmax(att, dim=2)\n",
    "        # shape: [N, SEQ, SEQ]\n",
    "        att_out = torch.matmul(att_softmax, values)\n",
    "        # shape: [N, SEQ, D_MODEL]\n",
    "\n",
    "        return att_out, keys, values"
   ]
  },
  {
   "cell_type": "markdown",
   "metadata": {},
   "source": [
    "### Memory Attention\n",
    "Implementation is the same as Self Attention only the keys and values matrices are not calculated from weights and input but are passed to the forward function."
   ]
  },
  {
   "cell_type": "code",
   "execution_count": 17,
   "metadata": {},
   "outputs": [],
   "source": [
    "class MemAttentionHead(nn.Module):\n",
    "    def __init__(self, d_model):\n",
    "        super().__init__()\n",
    "\n",
    "        self.d_model = d_model\n",
    "        self.Q = nn.Linear(d_model, d_model)\n",
    "\n",
    "    def forward(self, x, mem_padding_mask, keys = None, values = None):\n",
    "\n",
    "        # X shape: [N, SEQ, D_MODEL]\n",
    "        queries = self.Q.forward(x)\n",
    "        sqrt_d = self.d_model ** 0.5\n",
    "\n",
    "        att = torch.matmul(queries, keys.transpose(1,2)) / sqrt_d\n",
    "        # att shape: [N, SEQ_TGT, SEQ_SRC]\n",
    "\n",
    "        # Broadcast padding mask to word attentions so that word attention does not attend to positions outside the source sentence\n",
    "        if mem_padding_mask is not None:\n",
    "            att = att + mem_padding_mask.transpose(1,2)\n",
    "\n",
    "        att_softmax = torch.softmax(att, dim=2)\n",
    "        # shape: [N, SEQ_TGT, SEQ_SRC]\n",
    "        att_out = torch.matmul(att_softmax, values)\n",
    "        # shape: [N, SEQ_TGT, D_MODEL]\n",
    "\n",
    "        return att_out"
   ]
  },
  {
   "cell_type": "markdown",
   "metadata": {},
   "source": [
    "### Multi-head attentions for Self Attention and Memory Attention"
   ]
  },
  {
   "cell_type": "code",
   "execution_count": 18,
   "metadata": {},
   "outputs": [],
   "source": [
    "class MultiHeadSelfAttention(nn.Module):\n",
    "    def __init__(self, d_model, num_heads):\n",
    "        super().__init__()\n",
    "\n",
    "        self.num_heads = num_heads\n",
    "        self.heads = nn.ModuleList([SelfAttentionHead(d_model) for i in range(num_heads)])\n",
    "        self.linear = nn.Linear(num_heads * d_model, d_model)\n",
    "\n",
    "    def forward(self, src, src_padding_mask, src_subsq_mask):\n",
    "\n",
    "        out_cat = None\n",
    "        keys = None\n",
    "        values = None\n",
    "\n",
    "        for i in range(self.num_heads):\n",
    "            head_outp, keys, values = self.heads[i].forward(src, src_padding_mask, src_subsq_mask)\n",
    "\n",
    "            if i == 0:\n",
    "                out_cat = head_outp\n",
    "            else:\n",
    "                out_cat = torch.cat([out_cat, head_outp], dim=2)\n",
    "\n",
    "        ret = self.linear.forward(out_cat)\n",
    "\n",
    "        return ret, keys, values"
   ]
  },
  {
   "cell_type": "code",
   "execution_count": 19,
   "metadata": {},
   "outputs": [],
   "source": [
    "class MultiHeadMemAttention(nn.Module):\n",
    "    def __init__(self, d_model, num_heads):\n",
    "        super().__init__()\n",
    "\n",
    "        self.num_heads = num_heads\n",
    "        self.heads = nn.ModuleList([MemAttentionHead(d_model) for i in range(num_heads)])\n",
    "        self.linear = nn.Linear(num_heads * d_model, d_model)\n",
    "\n",
    "    def forward(self, src, src_padding_mask, keys, values):\n",
    "\n",
    "        out_cat = None\n",
    "        for i in range(self.num_heads):\n",
    "            head_outp = self.heads[i].forward(src, src_padding_mask, keys = keys, values = values)\n",
    "\n",
    "            if i == 0:\n",
    "                out_cat = head_outp\n",
    "            else:\n",
    "                out_cat = torch.cat([out_cat, head_outp], dim=2)\n",
    "\n",
    "        ret = self.linear.forward(out_cat)\n",
    "\n",
    "        return ret"
   ]
  },
  {
   "cell_type": "markdown",
   "metadata": {},
   "source": [
    "### Encoder layer"
   ]
  },
  {
   "cell_type": "code",
   "execution_count": 20,
   "metadata": {},
   "outputs": [],
   "source": [
    "class EncoderLayer(nn.Module):\n",
    "    def __init__(self, d_model, num_att_heads, ff_dim = 2048, dropout = 0.1):\n",
    "        super().__init__()\n",
    "\n",
    "        self.multihead_attention = MultiHeadSelfAttention(d_model, num_att_heads)\n",
    "        self.dropout1 = nn.Dropout(dropout)\n",
    "        self.att_sublayer_norm = torch.nn.LayerNorm(d_model)\n",
    "\n",
    "        self.linear1 = nn.Linear(d_model, ff_dim)\n",
    "        self.relu = nn.ReLU()\n",
    "        self.dropout_lin = nn.Dropout(dropout)\n",
    "        self.linear2 = nn.Linear(ff_dim, d_model)\n",
    "\n",
    "        self.dropout2 = nn.Dropout(dropout)\n",
    "        self.lin_sublayer_norm = torch.nn.LayerNorm(d_model)\n",
    "\n",
    "    def forward(self, src, src_padding_mask, src_subsq_mask):\n",
    "\n",
    "        residual_1 = src\n",
    "        x, keys, values = self.multihead_attention.forward(src, src_padding_mask, src_subsq_mask)\n",
    "        x = self.att_sublayer_norm.forward(residual_1 + self.dropout1(x))\n",
    "\n",
    "        residual_2 = x\n",
    "        x = self.linear2(self.dropout_lin(self.relu(self.linear1.forward(x))))\n",
    "        x = self.lin_sublayer_norm(residual_2 + self.dropout2(x))\n",
    "\n",
    "        return x, keys, values"
   ]
  },
  {
   "cell_type": "markdown",
   "metadata": {},
   "source": [
    "### Decoder layer\n",
    "\n",
    "The only difference between Encoder and Decoder layer is the additional MultiHeadMemAttention() sublayer in the decoder layer."
   ]
  },
  {
   "cell_type": "code",
   "execution_count": 21,
   "metadata": {},
   "outputs": [],
   "source": [
    "class DecoderLayer(nn.Module):\n",
    "    def __init__(self, d_model, num_att_heads, ff_dim = 2048, dropout = 0.1):\n",
    "        super().__init__()\n",
    "\n",
    "        self.multihead_self_attention = MultiHeadSelfAttention(d_model, num_att_heads)\n",
    "        self.self_att_sublayer_norm = torch.nn.LayerNorm(d_model)\n",
    "        self.dropout1 = nn.Dropout(dropout)\n",
    "\n",
    "        self.multihead_mem_attention = MultiHeadMemAttention(d_model, num_att_heads)\n",
    "        self.mem_att_sublayer_norm = torch.nn.LayerNorm(d_model)\n",
    "        self.dropout2 = nn.Dropout(dropout)\n",
    "\n",
    "        self.linear1 = nn.Linear(d_model, ff_dim)\n",
    "        self.dropout_lin = nn.Dropout(dropout)\n",
    "        self.relu = nn.ReLU()\n",
    "        self.linear2 = nn.Linear(ff_dim, d_model)\n",
    "        self.lin_sublayer_norm = torch.nn.LayerNorm(d_model)\n",
    "        self.dropout3 = nn.Dropout(dropout)\n",
    "\n",
    "    def forward(self, x, src_padding_mask, tgt_padding_mask, tgt_subsq_mask, mem_keys, mem_values):\n",
    "\n",
    "        residual_1 = x\n",
    "        x, keys, values = self.multihead_self_attention.forward(x, tgt_padding_mask, tgt_subsq_mask)\n",
    "        x = self.self_att_sublayer_norm.forward(residual_1 + self.dropout1(x))\n",
    "\n",
    "        residual_2 = x\n",
    "        x = self.multihead_mem_attention.forward(x, src_padding_mask, keys = mem_keys, values = mem_values)\n",
    "        x = self.mem_att_sublayer_norm.forward(residual_2 + self.dropout2(x))\n",
    "\n",
    "        residual_3 = x\n",
    "        x = self.linear2(self.dropout_lin(self.relu(self.linear1.forward(x))))\n",
    "        x = self.lin_sublayer_norm(residual_3 + self.dropout3(x))\n",
    "\n",
    "        return x"
   ]
  },
  {
   "cell_type": "markdown",
   "metadata": {},
   "source": [
    "### Encoder "
   ]
  },
  {
   "cell_type": "code",
   "execution_count": 22,
   "metadata": {},
   "outputs": [],
   "source": [
    "class Encoder(nn.Module):\n",
    "    def __init__(self, num_layers, d_model, num_att_heads):\n",
    "        super().__init__()\n",
    "        self.layers = nn.ModuleList([EncoderLayer(d_model, num_att_heads) for i in range(num_layers)])\n",
    "        self.norm = nn.LayerNorm(d_model)\n",
    "\n",
    "    def forward(self,src, src_padding_mask, src_subsq_mask):\n",
    "        x = src\n",
    "\n",
    "        keys = None\n",
    "        values = None\n",
    "        for layer in self.layers:\n",
    "            x, keys, values = layer.forward(x, src_padding_mask, src_subsq_mask)\n",
    "\n",
    "        x = self.norm.forward(x)\n",
    "\n",
    "        return keys, values"
   ]
  },
  {
   "cell_type": "markdown",
   "metadata": {},
   "source": [
    "### Decoder"
   ]
  },
  {
   "cell_type": "code",
   "execution_count": 23,
   "metadata": {},
   "outputs": [],
   "source": [
    "class Decoder(nn.Module):\n",
    "    def __init__(self, num_layers, d_model, num_att_heads):\n",
    "        super().__init__()\n",
    "        self.layers = nn.ModuleList([DecoderLayer(d_model, num_att_heads) for i in range(num_layers)])\n",
    "        self.norm = nn.LayerNorm(d_model)\n",
    "\n",
    "    def forward(self, tgt, src_padding_mask, tgt_padding_mask, tgt_subsq_mask, mem_keys, mem_values):\n",
    "        x = tgt\n",
    "        for layer in self.layers:\n",
    "            x = layer.forward(x, src_padding_mask, tgt_padding_mask, tgt_subsq_mask, mem_keys, mem_values)\n",
    "\n",
    "        x = self.norm.forward(x)\n",
    "\n",
    "        return x"
   ]
  },
  {
   "cell_type": "markdown",
   "metadata": {},
   "source": [
    "## Positional Encoding\n",
    "\n",
    "The attention module itself have no information about the position of other word embeddings in the sentence. In NLP and other sequential data tasks the order of the sequence is critical. To solve this issue the authors of the paper introduce the Positional Encoding method. First they generate a vector containing information about the position in the same size as the embedding and then simply add this vector to the word embedding and hope that the model will learn to recognize it.\n",
    "\n",
    "They use the following function to generate the positional information: \n",
    "<img src=\"imgs/pos_enc.png\">\n"
   ]
  },
  {
   "cell_type": "code",
   "execution_count": 24,
   "metadata": {},
   "outputs": [],
   "source": [
    "class PositionalEncoding(nn.Module):\n",
    "    def __init__(self, d_model):\n",
    "        super().__init__()\n",
    "        self.d_model = d_model\n",
    "\n",
    "        self.sin_args = torch.zeros(1, self.d_model).to(device)\n",
    "        self.cos_args = torch.zeros(1, self.d_model).to(device)\n",
    "        for i in range(self.d_model//2):\n",
    "            self.sin_args[0,i * 2] = 10000**(2.*i/self.d_model)\n",
    "            self.cos_args[0,i * 2 + 1] = 10000**(2.*i/self.d_model)\n",
    "\n",
    "        self.sin_args_mask = (self.sin_args > 1e-10).float()\n",
    "        self.sin_args = self.sin_args + (self.sin_args < 1e-10).float()\n",
    "\n",
    "        self.cos_args_mask = (self.cos_args > 1e-10).float()\n",
    "        self.cos_args = self.cos_args + (self.cos_args < 1e-10).float()\n",
    "\n",
    "    def forward(self, x):\n",
    "        for pos in range(x.size()[-2]):\n",
    "            x[:,pos,:] = x[:,pos,:] + \\\n",
    "                         torch.sin(pos / self.sin_args) * self.sin_args_mask + \\\n",
    "                         torch.cos(pos / self.cos_args) * self.cos_args_mask\n",
    "\n",
    "        return x\n"
   ]
  },
  {
   "cell_type": "markdown",
   "metadata": {},
   "source": [
    "Here is a vizualization of the positional encoding vectors. Each row is an encoding for a word. "
   ]
  },
  {
   "cell_type": "code",
   "execution_count": 25,
   "metadata": {},
   "outputs": [
    {
     "data": {
      "image/png": "[encoded data removed]",
      "text/plain": [
       "<Figure size 864x288 with 1 Axes>"
      ]
     },
     "metadata": {
      "needs_background": "light"
     },
     "output_type": "display_data"
    }
   ],
   "source": [
    "import matplotlib.pyplot as plt\n",
    "%matplotlib inline\n",
    "\n",
    "positional_enc = PositionalEncoding(128).to(device)\n",
    "data = torch.zeros(1, 50, 128).to(device)\n",
    "data_pos_enc = positional_enc.forward(data)\n",
    "\n",
    "enc_np = data_pos_enc.squeeze(dim=0).to('cpu').numpy()\n",
    "fig, ax = plt.subplots(figsize=(12, 4))\n",
    "ax.imshow(enc_np)\n",
    "plt.show()"
   ]
  },
  {
   "cell_type": "markdown",
   "metadata": {},
   "source": [
    "## The Transformer model\n",
    "\n",
    "The biggest addition to the Transformer module is the translate() function. The translate function reads the source sentence, encodes it with one encoder forward run and then using the **Value** and **Key** matrices from encoder it runs the decoder as many times as needed, generating one additional word per run, until the < end-of-sentence > token is generated or max sentence length is reached."
   ]
  },
  {
   "cell_type": "code",
   "execution_count": 26,
   "metadata": {},
   "outputs": [],
   "source": [
    "\n",
    "class Transformer(nn.Module):\n",
    "    def __init__(self, num_layers, d_model, num_att_heads, input_dict_size, output_dict_size):\n",
    "        super().__init__()\n",
    "\n",
    "        self.max_sent_len = 50\n",
    "\n",
    "        self.input_emb = nn.Embedding(input_dict_size, d_model)\n",
    "        self.outp_emb = nn.Embedding(output_dict_size, d_model)\n",
    "\n",
    "        self.positional_encoder = PositionalEncoding(d_model)\n",
    "        self.encoder = Encoder(num_layers, d_model, num_att_heads)\n",
    "        self.decoder = Decoder(num_layers, d_model, num_att_heads)\n",
    "\n",
    "        self.outp_logits = nn.Linear(d_model, output_dict_size)\n",
    "        self.softmax = nn.Softmax(dim=2)\n",
    "\n",
    "    def translate(self, src, tgt_start_code, tgt_eos_code, src_padding_mask, src_subsq_mask):\n",
    "\n",
    "        # TODO: Beam search\n",
    "\n",
    "        enc_x = self.input_emb.forward(src.squeeze(dim=2))\n",
    "        enc_x = self.positional_encoder.forward(enc_x)\n",
    "        enc_keys, enc_values = self.encoder.forward(enc_x, src_padding_mask, src_subsq_mask)\n",
    "\n",
    "        snt = torch.ones((1,1,1)) * tgt_start_code\n",
    "        snt = snt.long()\n",
    "        snt = snt.to(device)\n",
    "\n",
    "        translation_idxes = []\n",
    "\n",
    "        for idx in range(self.max_sent_len):\n",
    "\n",
    "            dec_x = self.outp_emb.forward(snt.squeeze(dim=2))\n",
    "            dec_x = self.positional_encoder.forward(dec_x)\n",
    "            dec_x = self.decoder.forward(\n",
    "                dec_x,\n",
    "                src_padding_mask = src_padding_mask,\n",
    "                tgt_padding_mask = torch.zeros_like(snt).float().to(device),\n",
    "                tgt_subsq_mask = get_square_subsequent_mask(snt.size()[1]),\n",
    "                mem_keys = enc_keys,\n",
    "                mem_values = enc_values\n",
    "            )\n",
    "            dec_x = self.outp_logits.forward(dec_x)\n",
    "            dec_x = self.softmax(dec_x)\n",
    "            next_word_softmax = dec_x[0,idx,:].to('cpu').detach()\n",
    "            next_word_idx = torch.argmax(next_word_softmax)\n",
    "            snt = torch.cat([snt, torch.ones((1,1,1)).long().to(device) * next_word_idx], dim=1)\n",
    "\n",
    "            translation_idxes.append(next_word_idx)\n",
    "\n",
    "            if next_word_idx == tgt_eos_code:\n",
    "                break\n",
    "\n",
    "        return translation_idxes\n",
    "\n",
    "\n",
    "    def forward(self, src, tgt, src_padding_mask, src_subsq_mask, tgt_padding_mask, tgt_subsq_mask):\n",
    "\n",
    "        enc_x = self.input_emb.forward(src.squeeze(dim=2))\n",
    "        enc_x = self.positional_encoder.forward(enc_x)\n",
    "        enc_keys, enc_values = self.encoder.forward(enc_x, src_padding_mask, src_subsq_mask)\n",
    "\n",
    "        dec_x = self.outp_emb.forward(tgt.squeeze(dim=2))\n",
    "        dec_x = self.positional_encoder.forward(dec_x)\n",
    "        dec_x = self.decoder.forward(dec_x, src_padding_mask, tgt_padding_mask, tgt_subsq_mask, enc_keys, enc_values)\n",
    "        dec_x = self.outp_logits.forward(dec_x)\n",
    "        dec_x = self.softmax(dec_x)\n",
    "\n",
    "        return dec_x"
   ]
  },
  {
   "cell_type": "markdown",
   "metadata": {},
   "source": [
    "### Some helper functions"
   ]
  },
  {
   "cell_type": "code",
   "execution_count": 27,
   "metadata": {},
   "outputs": [],
   "source": [
    "def get_square_subsequent_mask(seq_len):\n",
    "    mask = (torch.triu(torch.ones(seq_len, seq_len).to(device)) == 1).transpose(0, 1)\n",
    "    mask = mask.float().masked_fill(mask == 0, float('-inf')).masked_fill(mask == 1, float(0.0))\n",
    "    return mask\n",
    "\n",
    "def get_padding_mask(input, val1 = float('-inf'), val2 = float(0.0)):\n",
    "    mask = torch.ones(input.size()).to(device)\n",
    "    mask = mask.float().masked_fill(input == 0, val1).masked_fill(input > 0, val2)\n",
    "    return mask\n",
    "\n",
    "\n",
    "def get_one_hot(x, out_dim, mask):\n",
    "\n",
    "    tens = x.view(-1)\n",
    "    tens_one_hot = torch.zeros(list(tens.size()) + [out_dim]).to(device)\n",
    "    for i in range(len(tens)):\n",
    "        tens_one_hot[i,tens[i]] = 1\n",
    "\n",
    "    tens_one_hot = tens_one_hot.view(list(x.size()) + [out_dim])\n",
    "    tens_one_hot = tens_one_hot * mask\n",
    "    return tens_one_hot.to(device)"
   ]
  },
  {
   "cell_type": "code",
   "execution_count": 28,
   "metadata": {},
   "outputs": [],
   "source": [
    "#Prepare the sentence for model translate function\n",
    "def translate_sentences(src_sentences, tgt_sentences, max_sent_num = 15):\n",
    "\n",
    "    transformer_model.eval()\n",
    "\n",
    "    with torch.no_grad():\n",
    "\n",
    "        for snt_idx in range(len(src_sentences)):\n",
    "\n",
    "            if snt_idx > max_sent_num:\n",
    "                break\n",
    "\n",
    "            src = src_sentences[snt_idx:snt_idx+1]\n",
    "\n",
    "            padded_src = pad_sequence(src, padding_value=0, batch_first=True).to(device)\n",
    "            src_padding_mask = get_padding_mask(padded_src)\n",
    "            src_subsq_mask = get_square_subsequent_mask(padded_src.size()[1])\n",
    "\n",
    "            snt_translation = transformer_model.translate(\n",
    "                src = padded_src,\n",
    "                tgt_start_code = dataset.get_eng_start_code(),\n",
    "                tgt_eos_code = dataset.get_eng_eos_code(),\n",
    "                src_padding_mask = src_padding_mask,\n",
    "                src_subsq_mask = src_subsq_mask\n",
    "            )\n",
    "\n",
    "            src_sent = ''\n",
    "            for word_idx in src_sentences[snt_idx]:\n",
    "                src_sent = f\"{src_sent} {dataset.fra_token_to_text[word_idx]}\"\n",
    "\n",
    "            tgt_sent = ''\n",
    "            for word_idx in tgt_sentences[snt_idx]:\n",
    "                tgt_sent = f\"{tgt_sent} {dataset.eng_token_to_text[word_idx]}\"\n",
    "\n",
    "            translated_sent = ''\n",
    "            for word_idx in snt_translation:\n",
    "                translated_sent = f\"{translated_sent} {dataset.eng_token_to_text[word_idx]}\"\n",
    "\n",
    "            print(f\"Source sentence is: {src_sent}\")\n",
    "            print(f\"Target sentence is: {tgt_sent}\")\n",
    "            print(f\"Model translation is: {translated_sent}\")\n",
    "\n",
    "    transformer_model.train()"
   ]
  },
  {
   "cell_type": "markdown",
   "metadata": {},
   "source": [
    "### Hyperparams, model definition and dataset"
   ]
  },
  {
   "cell_type": "code",
   "execution_count": 30,
   "metadata": {},
   "outputs": [
    {
     "name": "stdout",
     "output_type": "stream",
     "text": [
      "170190\n"
     ]
    }
   ],
   "source": [
    "BATCH_SIZE = 32\n",
    "LEARNING_RATE = 1e-4\n",
    "EPOCHS = 100\n",
    "STORE_MODELS = True\n",
    "models_path = 'models'\n",
    "\n",
    "if not os.path.exists(models_path):\n",
    "    os.mkdir(models_path)\n",
    "\n",
    "dataset = FraEngDataset()\n",
    "sentences_loader = DataLoader(dataset, batch_size=BATCH_SIZE, shuffle=True, drop_last=True, collate_fn=fra_eng_dataset_collate)\n",
    "\n",
    "in_dict_size = dataset.get_fra_dict_size()\n",
    "out_dict_size = dataset.get_eng_dict_size()\n",
    "\n",
    "transformer_model = Transformer(\n",
    "    num_layers=6,\n",
    "    d_model=256,\n",
    "    num_att_heads=8,\n",
    "    input_dict_size=in_dict_size,\n",
    "    output_dict_size=out_dict_size\n",
    ").to(device)\n",
    "\n",
    "optimizer = torch.optim.Adam(transformer_model.parameters(), lr = 1e-4)\n"
   ]
  },
  {
   "cell_type": "markdown",
   "metadata": {},
   "source": [
    "# Training and sentence translation\n",
    "To follow the porgress of the model closer I will translate few sentenc after every 300 processed batches. "
   ]
  },
  {
   "cell_type": "code",
   "execution_count": null,
   "metadata": {},
   "outputs": [],
   "source": [
    "batch_count = 0\n",
    "\n",
    "for epoch in range(EPOCHS):\n",
    "\n",
    "    train_loss_sum = 0.0\n",
    "    total_word_count = 0.0\n",
    "\n",
    "    for sentences in sentences_loader:\n",
    "\n",
    "        src_sentences = sentences['fra_sentences']\n",
    "        tgt_sentences = sentences['eng_sentences']\n",
    "\n",
    "        batch_count+=1\n",
    "        if batch_count == 300:\n",
    "            batch_count = 0\n",
    "            translate_sentences(src_sentences,tgt_sentences)\n",
    "            continue\n",
    "\n",
    "        tgt_sentences_out = []\n",
    "\n",
    "        for idx in range(len(tgt_sentences)):\n",
    "            tgt_sentences_out.append(tgt_sentences[idx][1:])\n",
    "            tgt_sentences[idx] = tgt_sentences[idx][:-1]\n",
    "\n",
    "        # Create tensors from token lists\n",
    "        padded_src = pad_sequence(src_sentences, padding_value=0, batch_first=True).to(device)\n",
    "        padded_tgt = pad_sequence(tgt_sentences, padding_value=0, batch_first=True).to(device)\n",
    "        padded_tgt_out = pad_sequence(tgt_sentences_out, padding_value=0, batch_first=True).to(device)\n",
    "\n",
    "        src_padding_mask = get_padding_mask(padded_src)\n",
    "        src_subsq_mask = get_square_subsequent_mask(padded_src.size()[1])\n",
    "\n",
    "        tgt_padding_mask = get_padding_mask(padded_tgt)\n",
    "        tgt_subsq_mask = get_square_subsequent_mask(padded_tgt.size()[1])\n",
    "\n",
    "\n",
    "        pred = transformer_model.forward(\n",
    "            src=padded_src,\n",
    "            tgt=padded_tgt,\n",
    "            src_padding_mask=src_padding_mask,\n",
    "            src_subsq_mask=src_subsq_mask,\n",
    "            tgt_padding_mask=tgt_padding_mask,\n",
    "            tgt_subsq_mask=tgt_subsq_mask\n",
    "        )\n",
    "\n",
    "        # Mask to zero one hot vectors corresponding to padded elements\n",
    "        one_hot_mask = get_padding_mask(padded_tgt_out, val1=float(0.0), val2=float(1.0))\n",
    "        y_one_hot = get_one_hot(padded_tgt_out.squeeze(dim=2), out_dict_size, mask=one_hot_mask)\n",
    "\n",
    "        loss = - torch.sum(torch.log(pred) * y_one_hot)\n",
    "        print(loss)\n",
    "\n",
    "        loss.backward()\n",
    "        optimizer.step()\n",
    "        optimizer.zero_grad()\n",
    "\n",
    "        train_loss_sum += loss.detach().to('cpu').data\n",
    "        total_word_count += torch.sum(y_one_hot).to('cpu').data\n",
    "\n",
    "    print(f\"Epoch {epoch} \" + '=' * 60)\n",
    "    print(f\"Total loss per word: {train_loss_sum / total_word_count}\")\n",
    "    print(f\"Some translated sentences:\")\n",
    "    \n",
    "    \n",
    "\n",
    "    if STORE_MODELS == True:\n",
    "        model_path = os.path.join(models_path, f'Epoch_{epoch}_model.pt')\n",
    "        torch.save(transformer_model, model_path)\n",
    "\n",
    "print(\"Traing done! Generating some more sentences.\")\n"
   ]
  },
  {
   "cell_type": "code",
   "execution_count": null,
   "metadata": {},
   "outputs": [],
   "source": []
  }
 ],
 "metadata": {
  "kernelspec": {
   "display_name": "Python 3",
   "language": "python",
   "name": "python3"
  },
  "language_info": {
   "codemirror_mode": {
    "name": "ipython",
    "version": 3
   },
   "file_extension": ".py",
   "mimetype": "text/x-python",
   "name": "python",
   "nbconvert_exporter": "python",
   "pygments_lexer": "ipython3",
   "version": "3.6.8"
  }
 },
 "nbformat": 4,
 "nbformat_minor": 2
}
